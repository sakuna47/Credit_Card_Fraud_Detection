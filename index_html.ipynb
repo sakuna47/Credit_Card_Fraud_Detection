{
  "nbformat": 4,
  "nbformat_minor": 0,
  "metadata": {
    "colab": {
      "provenance": [],
      "authorship_tag": "ABX9TyPfGEwkGIn+2qGo5OQjqh8u",
      "include_colab_link": true
    },
    "kernelspec": {
      "name": "python3",
      "display_name": "Python 3"
    },
    "language_info": {
      "name": "python"
    }
  },
  "cells": [
    {
      "cell_type": "markdown",
      "metadata": {
        "id": "view-in-github",
        "colab_type": "text"
      },
      "source": [
        "<a href=\"https://colab.research.google.com/github/sakuna47/Credit_Card_Fraud_Detection/blob/FrontEnd/index_html.ipynb\" target=\"_parent\"><img src=\"https://colab.research.google.com/assets/colab-badge.svg\" alt=\"Open In Colab\"/></a>"
      ]
    },
    {
      "cell_type": "code",
      "execution_count": null,
      "metadata": {
        "id": "uR1nwfzHnKGl"
      },
      "outputs": [],
      "source": [
        "<!DOCTYPE html>\n",
        "<html lang=\"en\">\n",
        "<head>\n",
        "    <meta charset=\"UTF-8\">\n",
        "    <meta name=\"viewport\" content=\"width=device-width, initial-scale=1.0\">\n",
        "    <title>Fraud Detection</title>\n",
        "    <style>\n",
        "        body {\n",
        "            font-family: Arial, sans-serif;\n",
        "            margin: 40px;\n",
        "            padding: 20px;\n",
        "            background-color: #f5f5f5;\n",
        "        }\n",
        "        h1 {\n",
        "            text-align: center;\n",
        "            color: #333;\n",
        "        }\n",
        "        form {\n",
        "            max-width: 400px;\n",
        "            margin: auto;\n",
        "            padding: 20px;\n",
        "            background: white;\n",
        "            box-shadow: 0px 0px 10px rgba(0, 0, 0, 0.1);\n",
        "            border-radius: 8px;\n",
        "        }\n",
        "        label {\n",
        "            display: block;\n",
        "            margin-top: 10px;\n",
        "            font-weight: bold;\n",
        "        }\n",
        "        input {\n",
        "            width: 100%;\n",
        "            padding: 8px;\n",
        "            margin-top: 5px;\n",
        "            border: 1px solid #ccc;\n",
        "            border-radius: 5px;\n",
        "        }\n",
        "        button {\n",
        "            width: 100%;\n",
        "            padding: 10px;\n",
        "            margin-top: 15px;\n",
        "            background-color: #28a745;\n",
        "            color: white;\n",
        "            border: none;\n",
        "            border-radius: 5px;\n",
        "            cursor: pointer;\n",
        "            font-size: 16px;\n",
        "        }\n",
        "        button:hover {\n",
        "            background-color: #218838;\n",
        "        }\n",
        "        .prediction {\n",
        "            text-align: center;\n",
        "            margin-top: 20px;\n",
        "            font-size: 18px;\n",
        "            font-weight: bold;\n",
        "            color: #333;\n",
        "        }\n",
        "    </style>\n",
        "</head>\n",
        "<body>\n",
        "\n",
        "    <h1>Credit Card Fraud Detection</h1>\n",
        "\n",
        "    <form action=\"/predict\" method=\"post\">\n",
        "        {% for i in range(1, 29) %}\n",
        "            <label for=\"v{{ i }}\">V{{ i }}:</label>\n",
        "            <input type=\"text\" name=\"v{{ i }}\" required>\n",
        "        {% endfor %}\n",
        "        <label for=\"amount\">Amount:</label>\n",
        "        <input type=\"text\" name=\"amount\" required>\n",
        "\n",
        "        <button type=\"submit\">Predict</button>\n",
        "    </form>\n",
        "\n",
        "    {% if prediction %}\n",
        "        <div class=\"prediction\">Prediction: {{ prediction }}</div>\n",
        "    {% endif %}\n",
        "\n",
        "</body>\n",
        "</html>\n"
      ]
    }
  ]
}