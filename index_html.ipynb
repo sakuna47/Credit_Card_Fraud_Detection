{
  "nbformat": 4,
  "nbformat_minor": 0,
  "metadata": {
    "colab": {
      "provenance": [],
      "authorship_tag": "ABX9TyPtadE6l55qJ5ayzC2jKIAg",
      "include_colab_link": true
    },
    "kernelspec": {
      "name": "python3",
      "display_name": "Python 3"
    },
    "language_info": {
      "name": "python"
    }
  },
  "cells": [
    {
      "cell_type": "markdown",
      "metadata": {
        "id": "view-in-github",
        "colab_type": "text"
      },
      "source": [
        "<a href=\"https://colab.research.google.com/github/sakuna47/Credit_Card_Fraud_Detection/blob/FrontEnd/index_html.ipynb\" target=\"_parent\"><img src=\"https://colab.research.google.com/assets/colab-badge.svg\" alt=\"Open In Colab\"/></a>"
      ]
    },
    {
      "cell_type": "code",
      "execution_count": null,
      "metadata": {
        "id": "uR1nwfzHnKGl"
      },
      "outputs": [],
      "source": [
        "<!DOCTYPE html>\n",
        "<html>\n",
        "<head>\n",
        "    <title>Credit Card Fraud Detection</title>\n",
        "</head>\n",
        "<body>\n",
        "    <h1>Enter Transaction Details</h1>\n",
        "    <form method=\"POST\" action=\"/predict\">\n",
        "        <input type=\"number\" name=\"amount\" placeholder=\"Amount\" required><br>\n",
        "        <input type=\"number\" name=\"v1\" placeholder=\"V1\" required><br>\n",
        "        <!-- Add all 28 features (V1-V28) -->\n",
        "        <button type=\"submit\">Check Fraud</button>\n",
        "    </form>\n",
        "    {% if prediction %}\n",
        "        <h2>Prediction: {{ prediction }}</h2>\n",
        "    {% endif %}\n",
        "</body>\n",
        "</html>"
      ]
    }
  ]
}